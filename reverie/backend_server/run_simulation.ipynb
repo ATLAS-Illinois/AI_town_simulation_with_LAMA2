{
 "cells": [
  {
   "cell_type": "code",
   "execution_count": 27,
   "metadata": {
    "collapsed": true,
    "jupyter": {
     "outputs_hidden": true
    },
    "tags": []
   },
   "outputs": [
    {
     "name": "stdout",
     "output_type": "stream",
     "text": [
      "Traceback (most recent call last):\n",
      "  File \"/Users/muhualiushui/Desktop/AI_Simulation_Llama2/reverie/backend_server/reverie.py\", line 486, in open_server\n",
      "    rs.start_server(int_count)\n",
      "  File \"/Users/muhualiushui/Desktop/AI_Simulation_Llama2/reverie/backend_server/reverie.py\", line 382, in start_server\n",
      "    next_tile, pronunciatio, description = persona.move(\n",
      "                                           ^^^^^^^^^^^^^\n",
      "  File \"/Users/muhualiushui/Desktop/AI_Simulation_Llama2/reverie/backend_server/persona/persona.py\", line 222, in move\n",
      "    plan = self.plan(maze, personas, new_day, retrieved)\n",
      "           ^^^^^^^^^^^^^^^^^^^^^^^^^^^^^^^^^^^^^^^^^^^^^\n",
      "  File \"/Users/muhualiushui/Desktop/AI_Simulation_Llama2/reverie/backend_server/persona/persona.py\", line 148, in plan\n",
      "    return plan(self, maze, personas, new_day, retrieved)\n",
      "           ^^^^^^^^^^^^^^^^^^^^^^^^^^^^^^^^^^^^^^^^^^^^^^\n",
      "  File \"/Users/muhualiushui/Desktop/AI_Simulation_Llama2/reverie/backend_server/persona/cognitive_modules/plan.py\", line 959, in plan\n",
      "    _determine_action(persona, maze)\n",
      "  File \"/Users/muhualiushui/Desktop/AI_Simulation_Llama2/reverie/backend_server/persona/cognitive_modules/plan.py\", line 635, in _determine_action\n",
      "    act_obj_desp = generate_act_obj_desc(act_game_object, act_desp, persona)\n",
      "                   ^^^^^^^^^^^^^^^^^^^^^^^^^^^^^^^^^^^^^^^^^^^^^^^^^^^^^^^^^\n",
      "  File \"/Users/muhualiushui/Desktop/AI_Simulation_Llama2/reverie/backend_server/persona/cognitive_modules/plan.py\", line 269, in generate_act_obj_desc\n",
      "    return run_gpt_prompt_act_obj_desc(act_game_object, act_desp, persona)[0]\n",
      "           ~~~~~~~~~~~~~~~~~~~~~~~~~~~~~~~~~~~~~~~~~~~~~~~~~~~~~~~~~~~~~~~^^^\n",
      "TypeError: 'NoneType' object is not subscriptable\n"
     ]
    }
   ],
   "source": [
    "i=2\n",
    "# for i in range(2,3):\n",
    "!echo -e \"base_the_ville_isabella_maria_klaus \\n rand1\\n run 1\\nexit\" | python3 reverie.py >> \"../../output_shuzhen/03_20/output$i\""
   ]
  },
  {
   "cell_type": "code",
   "execution_count": 15,
   "metadata": {
    "tags": []
   },
   "outputs": [
    {
     "name": "stdout",
     "output_type": "stream",
     "text": [
      "\n",
      "Traceback (most recent call last):\n",
      "  File \"/Users/muhualiushui/Desktop/AI_Simulation_Llama2/reverie/backend_server/reverie.py\", line 36, in <module>\n",
      "    from persona.persona import *\n",
      "  File \"/Users/muhualiushui/Desktop/AI_Simulation_Llama2/reverie/backend_server/persona/persona.py\", line 23, in <module>\n",
      "    from persona.cognitive_modules.perceive import *\n",
      "  File \"/Users/muhualiushui/Desktop/AI_Simulation_Llama2/reverie/backend_server/persona/cognitive_modules/perceive.py\", line 12, in <module>\n",
      "    from persona.prompt_template.gpt_structure import *\n",
      "  File \"/Users/muhualiushui/Desktop/AI_Simulation_Llama2/reverie/backend_server/persona/prompt_template/gpt_structure.py\", line 287, in <module>\n",
      "    print(LLM(test,Model=2))\n",
      "          ^^^^^^^^^^^^^^^^^\n",
      "  File \"/Users/muhualiushui/Desktop/AI_Simulation_Llama2/reverie/backend_server/persona/prompt_template/gpt_structure.py\", line 51, in LLM\n",
      "    print(pt.Claude_3(prompt).content[0].text).rstrip()\n",
      "          ^^^^^^^^^^^^^^^^^^^\n",
      "  File \"/Users/muhualiushui/Desktop/AI_Simulation_Llama2/reverie/backend_server/API.py\", line 33, in Claude_3\n",
      "    api_key=os.environ[\"ANTHROPIC_API_KEY\"],\n",
      "            ~~~~~~~~~~^^^^^^^^^^^^^^^^^^^^^\n",
      "  File \"<frozen os>\", line 679, in __getitem__\n",
      "KeyError: 'ANTHROPIC_API_KEY'\n",
      "\n"
     ]
    }
   ],
   "source": [
    "import subprocess\n",
    "\n",
    "repeat_count = 5\n",
    "\n",
    "command = \"base_the_ville_isabella_maria_klaus\\nClaude_2\" \n",
    "# command = \"final_2\\nfinal_3\"\n",
    "for _ in range(repeat_count):\n",
    "    command += \"\\nrun 1000\"\n",
    "command += \"\\nfin\"\n",
    "\n",
    "process = subprocess.Popen(['python3', 'reverie.py'], stdin=subprocess.PIPE, stdout=subprocess.PIPE, stderr=subprocess.PIPE)\n",
    "stdout, stderr = process.communicate(input=command.encode())\n",
    "\n",
    "print(stdout.decode())\n",
    "if stderr:\n",
    "    print(stderr.decode())\n"
   ]
  },
  {
   "cell_type": "code",
   "execution_count": null,
   "metadata": {},
   "outputs": [],
   "source": []
  }
 ],
 "metadata": {
  "kernelspec": {
   "display_name": "Python 3 (ipykernel)",
   "language": "python",
   "name": "python3"
  },
  "language_info": {
   "codemirror_mode": {
    "name": "ipython",
    "version": 3
   },
   "file_extension": ".py",
   "mimetype": "text/x-python",
   "name": "python",
   "nbconvert_exporter": "python",
   "pygments_lexer": "ipython3",
   "version": "3.11.4"
  }
 },
 "nbformat": 4,
 "nbformat_minor": 4
}
