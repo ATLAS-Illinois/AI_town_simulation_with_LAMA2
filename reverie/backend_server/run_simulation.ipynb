{
 "cells": [
  {
   "cell_type": "code",
   "execution_count": 2,
   "metadata": {
    "collapsed": true,
    "jupyter": {
     "outputs_hidden": true
    },
    "tags": []
   },
   "outputs": [
    {
     "name": "stdout",
     "output_type": "stream",
     "text": [
      "^C\n"
     ]
    }
   ],
   "source": [
    "i=3\n",
    "# for i in range(2,3):\n",
    "!echo -e \"base_the_ville_isabella_maria_klaus \\n rand1\\n run 1\\nexit\" | python3 reverie.py >> \"../../output_shuzhen/03_20/output$i\""
   ]
  },
  {
   "cell_type": "code",
   "execution_count": null,
   "metadata": {
    "tags": []
   },
   "outputs": [],
   "source": [
    "import subprocess\n",
    "\n",
    "repeat_count = 5\n",
    "\n",
    "command = \"4_24_test_C\\n4_24_test_C_1\"\n",
    "for _ in range(repeat_count):\n",
    "    command += \"\\nrun 3000\"\n",
    "command += \"\\nfin\"\n",
    "\n",
    "process = subprocess.Popen(['python3', 'reverie.py'], stdin=subprocess.PIPE, stdout=subprocess.PIPE, stderr=subprocess.PIPE, text=True)\n",
    "\n",
    "# Send the command to the subprocess\n",
    "process.stdin.write(command)\n",
    "process.stdin.close()\n",
    "\n",
    "# Read and print the output line by line in real time\n",
    "while True:\n",
    "    output_line = process.stdout.readline()\n",
    "    if output_line == '' and process.poll() is not None:\n",
    "        break\n",
    "    if output_line:\n",
    "        print(output_line.strip())\n",
    "\n",
    "# Check for any errors\n",
    "stderr = process.stderr.read()\n",
    "if stderr:\n",
    "    print(stderr)\n"
   ]
  },
  {
   "cell_type": "code",
   "execution_count": null,
   "metadata": {},
   "outputs": [],
   "source": []
  }
 ],
 "metadata": {
  "kernelspec": {
   "display_name": "Python 3 (ipykernel)",
   "language": "python",
   "name": "python3"
  },
  "language_info": {
   "codemirror_mode": {
    "name": "ipython",
    "version": 3
   },
   "file_extension": ".py",
   "mimetype": "text/x-python",
   "name": "python",
   "nbconvert_exporter": "python",
   "pygments_lexer": "ipython3",
   "version": "3.10.10"
  }
 },
 "nbformat": 4,
 "nbformat_minor": 4
}
